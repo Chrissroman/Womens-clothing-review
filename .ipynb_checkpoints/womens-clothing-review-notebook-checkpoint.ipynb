{
 "cells": [
  {
   "cell_type": "markdown",
   "id": "16457182-b373-481b-bc99-cd4cebc8461a",
   "metadata": {},
   "source": [
    "# Women's Clothing E-Commerce Review"
   ]
  },
  {
   "cell_type": "code",
   "execution_count": 1,
   "id": "e33aaad4-b079-4168-878c-10235afdb389",
   "metadata": {},
   "outputs": [],
   "source": [
    "import pandas as pd\n",
    "import numpy as np\n",
    "import matplotlib.pyplot as plt\n",
    "import seaborn as sns\n",
    "\n",
    "import warnings\n",
    "warnings.filterwarnings('ignore')\n",
    "\n",
    "plt.style.use('ggplot')\n",
    "%matplotlib inline"
   ]
  },
  {
   "cell_type": "markdown",
   "id": "76e54641-9704-487c-b270-358821f04943",
   "metadata": {},
   "source": [
    "## 1. Load of CSV\n",
    "\n",
    "Charge data women's clothing e-commerce review in DataFrame."
   ]
  },
  {
   "cell_type": "code",
   "execution_count": 2,
   "id": "e6000bf0-f0c3-4f67-800e-2b258cd3dc91",
   "metadata": {},
   "outputs": [
    {
     "data": {
      "text/html": [
       "<div>\n",
       "<style scoped>\n",
       "    .dataframe tbody tr th:only-of-type {\n",
       "        vertical-align: middle;\n",
       "    }\n",
       "\n",
       "    .dataframe tbody tr th {\n",
       "        vertical-align: top;\n",
       "    }\n",
       "\n",
       "    .dataframe thead th {\n",
       "        text-align: right;\n",
       "    }\n",
       "</style>\n",
       "<table border=\"1\" class=\"dataframe\">\n",
       "  <thead>\n",
       "    <tr style=\"text-align: right;\">\n",
       "      <th></th>\n",
       "      <th>Unnamed: 0</th>\n",
       "      <th>Clothing ID</th>\n",
       "      <th>Age</th>\n",
       "      <th>Title</th>\n",
       "      <th>Review Text</th>\n",
       "      <th>Rating</th>\n",
       "      <th>Recommended IND</th>\n",
       "      <th>Positive Feedback Count</th>\n",
       "      <th>Division Name</th>\n",
       "      <th>Department Name</th>\n",
       "      <th>Class Name</th>\n",
       "    </tr>\n",
       "  </thead>\n",
       "  <tbody>\n",
       "    <tr>\n",
       "      <th>0</th>\n",
       "      <td>0</td>\n",
       "      <td>767</td>\n",
       "      <td>33</td>\n",
       "      <td>NaN</td>\n",
       "      <td>Absolutely wonderful - silky and sexy and comf...</td>\n",
       "      <td>4</td>\n",
       "      <td>1</td>\n",
       "      <td>0</td>\n",
       "      <td>Initmates</td>\n",
       "      <td>Intimate</td>\n",
       "      <td>Intimates</td>\n",
       "    </tr>\n",
       "    <tr>\n",
       "      <th>1</th>\n",
       "      <td>1</td>\n",
       "      <td>1080</td>\n",
       "      <td>34</td>\n",
       "      <td>NaN</td>\n",
       "      <td>Love this dress!  it's sooo pretty.  i happene...</td>\n",
       "      <td>5</td>\n",
       "      <td>1</td>\n",
       "      <td>4</td>\n",
       "      <td>General</td>\n",
       "      <td>Dresses</td>\n",
       "      <td>Dresses</td>\n",
       "    </tr>\n",
       "    <tr>\n",
       "      <th>2</th>\n",
       "      <td>2</td>\n",
       "      <td>1077</td>\n",
       "      <td>60</td>\n",
       "      <td>Some major design flaws</td>\n",
       "      <td>I had such high hopes for this dress and reall...</td>\n",
       "      <td>3</td>\n",
       "      <td>0</td>\n",
       "      <td>0</td>\n",
       "      <td>General</td>\n",
       "      <td>Dresses</td>\n",
       "      <td>Dresses</td>\n",
       "    </tr>\n",
       "    <tr>\n",
       "      <th>3</th>\n",
       "      <td>3</td>\n",
       "      <td>1049</td>\n",
       "      <td>50</td>\n",
       "      <td>My favorite buy!</td>\n",
       "      <td>I love, love, love this jumpsuit. it's fun, fl...</td>\n",
       "      <td>5</td>\n",
       "      <td>1</td>\n",
       "      <td>0</td>\n",
       "      <td>General Petite</td>\n",
       "      <td>Bottoms</td>\n",
       "      <td>Pants</td>\n",
       "    </tr>\n",
       "    <tr>\n",
       "      <th>4</th>\n",
       "      <td>4</td>\n",
       "      <td>847</td>\n",
       "      <td>47</td>\n",
       "      <td>Flattering shirt</td>\n",
       "      <td>This shirt is very flattering to all due to th...</td>\n",
       "      <td>5</td>\n",
       "      <td>1</td>\n",
       "      <td>6</td>\n",
       "      <td>General</td>\n",
       "      <td>Tops</td>\n",
       "      <td>Blouses</td>\n",
       "    </tr>\n",
       "  </tbody>\n",
       "</table>\n",
       "</div>"
      ],
      "text/plain": [
       "   Unnamed: 0  Clothing ID  Age                    Title  \\\n",
       "0           0          767   33                      NaN   \n",
       "1           1         1080   34                      NaN   \n",
       "2           2         1077   60  Some major design flaws   \n",
       "3           3         1049   50         My favorite buy!   \n",
       "4           4          847   47         Flattering shirt   \n",
       "\n",
       "                                         Review Text  Rating  Recommended IND  \\\n",
       "0  Absolutely wonderful - silky and sexy and comf...       4                1   \n",
       "1  Love this dress!  it's sooo pretty.  i happene...       5                1   \n",
       "2  I had such high hopes for this dress and reall...       3                0   \n",
       "3  I love, love, love this jumpsuit. it's fun, fl...       5                1   \n",
       "4  This shirt is very flattering to all due to th...       5                1   \n",
       "\n",
       "   Positive Feedback Count   Division Name Department Name Class Name  \n",
       "0                        0       Initmates        Intimate  Intimates  \n",
       "1                        4         General         Dresses    Dresses  \n",
       "2                        0         General         Dresses    Dresses  \n",
       "3                        0  General Petite         Bottoms      Pants  \n",
       "4                        6         General            Tops    Blouses  "
      ]
     },
     "execution_count": 2,
     "metadata": {},
     "output_type": "execute_result"
    }
   ],
   "source": [
    "url = 'https://raw.githubusercontent.com/Chrissroman/Womens-clothing-review/master/Womens%20Clothing%20E-Commerce%20Reviews.csv'\n",
    "data =  pd.read_csv(url)\n",
    "data.head()"
   ]
  },
  {
   "cell_type": "code",
   "execution_count": 3,
   "id": "a3999e1e-631e-4a1d-b39e-a7f5ef721374",
   "metadata": {},
   "outputs": [
    {
     "name": "stdout",
     "output_type": "stream",
     "text": [
      "The shape of data is: (23486, 11)\n"
     ]
    }
   ],
   "source": [
    "print('The shape of data is: {}'.format(data.shape))"
   ]
  },
  {
   "cell_type": "markdown",
   "id": "3800e43c-bc94-4e9c-9238-ac96f5b36131",
   "metadata": {},
   "source": [
    "## 2. Preprocessing Data\n",
    "\n",
    "If we want to have a good model, we should do preprocessing data. The first step is to handle missing values."
   ]
  },
  {
   "cell_type": "markdown",
   "id": "f0fa783d-86fa-4707-8f29-7a93992e09d7",
   "metadata": {},
   "source": [
    "### 2.1 Handle Missing Values"
   ]
  },
  {
   "cell_type": "code",
   "execution_count": 4,
   "id": "0d3a2a46-f8a5-4cc5-8670-b4198312f5b7",
   "metadata": {},
   "outputs": [
    {
     "data": {
      "text/plain": [
       "Unnamed: 0                  0.000000\n",
       "Clothing ID                 0.000000\n",
       "Age                         0.000000\n",
       "Title                      16.222430\n",
       "Review Text                 3.597888\n",
       "Rating                      0.000000\n",
       "Recommended IND             0.000000\n",
       "Positive Feedback Count     0.000000\n",
       "Division Name               0.059610\n",
       "Department Name             0.059610\n",
       "Class Name                  0.059610\n",
       "dtype: float64"
      ]
     },
     "execution_count": 4,
     "metadata": {},
     "output_type": "execute_result"
    }
   ],
   "source": [
    "# list missing values:\n",
    "data.isnull().sum()/len(data) *100"
   ]
  },
  {
   "cell_type": "markdown",
   "id": "bc0bb5ba-9b6a-429f-bb73-3101a3e0691e",
   "metadata": {},
   "source": [
    "We can see that's missing values be focus it in string variables as 'Titile' and 'Rating review'. The ['Division Name', 'Department Name', 'Class Name'] is amounted very low, thus will be easy to handle.\n",
    "\n",
    "We join 'Title and Review Text' in the one variable as 'Review' and drop all rows that have missing values. in addition, we will remove 'Unanmed:0' and 'Clothing ID' because it do not deliver value. "
   ]
  },
  {
   "cell_type": "code",
   "execution_count": 5,
   "id": "e8e34ca7-104b-46ed-bb81-30ad61e1b21c",
   "metadata": {},
   "outputs": [],
   "source": [
    "# copy DataFrame\n",
    "df = data.copy()\n",
    "\n",
    "# concat variables 'Title' and 'Review Text':\n",
    "df['Review'] = df['Title'] + ' ' + df['Review Text']\n",
    "\n",
    "# drop columns and rows:\n",
    "df.drop(df[df.Review.notna() == False].index, \n",
    "        axis = 0, inplace = True)\n",
    "\n",
    "df.drop(df[df['Division Name'].notna() == False].index, \n",
    "        axis = 0, inplace = True)"
   ]
  },
  {
   "cell_type": "code",
   "execution_count": 6,
   "id": "78729355-859a-4d32-b114-2f25e61c477f",
   "metadata": {},
   "outputs": [
    {
     "data": {
      "text/plain": [
       "Unnamed: 0                 0.0\n",
       "Clothing ID                0.0\n",
       "Age                        0.0\n",
       "Title                      0.0\n",
       "Review Text                0.0\n",
       "Rating                     0.0\n",
       "Recommended IND            0.0\n",
       "Positive Feedback Count    0.0\n",
       "Division Name              0.0\n",
       "Department Name            0.0\n",
       "Class Name                 0.0\n",
       "Review                     0.0\n",
       "dtype: float64"
      ]
     },
     "execution_count": 6,
     "metadata": {},
     "output_type": "execute_result"
    }
   ],
   "source": [
    "df.isnull().sum()/len(df) * 100"
   ]
  },
  {
   "cell_type": "markdown",
   "id": "2978c6ea-1318-4b82-8299-7da0808e1072",
   "metadata": {},
   "source": [
    "On the other side, the * 'Recommended IND' * have atypical values. For a `Rating = 5`, 25 values have` Recommended IND == 0`. In the other words, this clothing is not recommended although of that a higher rating for the costumer.\n",
    "\n",
    "For a inverse case, the `rating = 1` and `Recommended IND = 1`."
   ]
  },
  {
   "cell_type": "code",
   "execution_count": 7,
   "id": "14344097-75d6-41c0-908a-5e5bb7371a34",
   "metadata": {},
   "outputs": [
    {
     "data": {
      "text/plain": [
       "Rating  Recommended IND\n",
       "1       0                    684\n",
       "        1                      7\n",
       "2       0                   1280\n",
       "        1                     80\n",
       "3       0                   1444\n",
       "        1                   1020\n",
       "4       0                    146\n",
       "        1                   4143\n",
       "5       0                     21\n",
       "        1                  10837\n",
       "Name: Recommended IND, dtype: int64"
      ]
     },
     "execution_count": 7,
     "metadata": {},
     "output_type": "execute_result"
    }
   ],
   "source": [
    "# Group by Rating and Recommended\n",
    "df.groupby(['Rating', 'Recommended IND'])['Recommended IND'].count()"
   ]
  },
  {
   "cell_type": "markdown",
   "id": "fcf7d118-b9a1-4e45-8013-b8c4312463b4",
   "metadata": {},
   "source": [
    "This values can be removed."
   ]
  },
  {
   "cell_type": "code",
   "execution_count": 8,
   "id": "cdae5a2a-c718-4762-8316-7d7157599402",
   "metadata": {},
   "outputs": [],
   "source": [
    "# Drop Atypical values:\n",
    "df.drop(df.loc[(df.Rating == 5) & (df['Recommended IND'] == 0)].index, axis = 0, inplace = True)\n",
    "df.drop(df.loc[(df.Rating == 1) & (df['Recommended IND'] == 1)].index, axis = 0, inplace = True)\n",
    "\n",
    "\n",
    "clothing_id = df['Clothing ID'].values\n",
    "\n",
    "# Remove columns:\n",
    "df.drop(['Unnamed: 0', 'Clothing ID', 'Title', 'Review Text'], axis = 1, inplace = True)"
   ]
  },
  {
   "cell_type": "code",
   "execution_count": 9,
   "id": "0b307e38-c904-4db6-a8c3-eaabe1686c31",
   "metadata": {},
   "outputs": [
    {
     "data": {
      "text/plain": [
       "Rating  Recommended IND\n",
       "1       0                    684\n",
       "2       0                   1280\n",
       "        1                     80\n",
       "3       0                   1444\n",
       "        1                   1020\n",
       "4       0                    146\n",
       "        1                   4143\n",
       "5       1                  10837\n",
       "Name: Recommended IND, dtype: int64"
      ]
     },
     "execution_count": 9,
     "metadata": {},
     "output_type": "execute_result"
    }
   ],
   "source": [
    "df.groupby(['Rating', 'Recommended IND'])['Recommended IND'].count()"
   ]
  },
  {
   "cell_type": "markdown",
   "id": "d5315b13-c761-4bb1-bf45-ed13dbe5b1af",
   "metadata": {},
   "source": [
    "### 2.2 New Features\n",
    "\n",
    "We created new features that describe the amount of the letters in the review text."
   ]
  },
  {
   "cell_type": "code",
   "execution_count": 10,
   "id": "b2daf213-377d-4f3f-a705-07ba5bc74049",
   "metadata": {},
   "outputs": [
    {
     "data": {
      "image/png": "[encoded data removed]",
      "text/plain": [
       "<Figure size 1152x360 with 1 Axes>"
      ]
     },
     "metadata": {},
     "output_type": "display_data"
    }
   ],
   "source": [
    "df['lenght_review'] = df['Review'].apply(len)\n",
    "\n",
    "# plot distribution and discribe this new feature\n",
    "sns.set(rc = {'figure.figsize': (16,5)})\n",
    "fig, ax = plt.subplots(nrows = 1, ncols = 1, figsize = (16,5))\n",
    "ax = sns.histplot(x = 'lenght_review', data = df, bins = 100, kde = True)\n",
    "plt.title('Distribution of len Review Text', fontsize = 14)\n",
    "plt.show()"
   ]
  },
  {
   "cell_type": "markdown",
   "id": "8aad5be5-c9f4-4d07-9e3b-b0974ec92df9",
   "metadata": {},
   "source": [
    "### 2.3 Polarity Score of Review\n",
    "   \n",
    "With `TextBlob` library, we can calculate the polarity *(positive or negative sentences)*. This, allow us to know if the review is considered positive or negative. \n",
    "\n",
    "The function `TextBlob(x).polarity` will return the polarity score with values between [- 1, 1]. If this value is near at - 1, then has a negative opinion, for near values at + 1 then has a positive opinion. The values near zero, be will consider neutral.\n",
    "\n",
    "The function `TextBlob(x).subjetivity`, will return the rate *subjetivity-objetivity* for values between to [0,1]. "
   ]
  },
  {
   "cell_type": "code",
   "execution_count": 11,
   "id": "25b0d6b9-f71e-4e17-a028-4196442807ec",
   "metadata": {},
   "outputs": [],
   "source": [
    "from textblob import TextBlob"
   ]
  },
  {
   "cell_type": "code",
   "execution_count": 19,
   "id": "9a584382-3645-4970-8991-2c97f515ab89",
   "metadata": {},
   "outputs": [],
   "source": [
    "df['polarity_score'] = df['Review'].apply(lambda x: TextBlob(x).sentiment.polarity)\n",
    "df['subjetivity_score'] = df['Review'].apply(lambda x: TextBlob(x).sentiment.subjectivity)"
   ]
  },
  {
   "cell_type": "code",
   "execution_count": 25,
   "id": "48b5adae-2e6b-4dcc-b255-bc44e1f63166",
   "metadata": {},
   "outputs": [
    {
     "data": {
      "text/html": [
       "<div>\n",
       "<style scoped>\n",
       "    .dataframe tbody tr th:only-of-type {\n",
       "        vertical-align: middle;\n",
       "    }\n",
       "\n",
       "    .dataframe tbody tr th {\n",
       "        vertical-align: top;\n",
       "    }\n",
       "\n",
       "    .dataframe thead th {\n",
       "        text-align: right;\n",
       "    }\n",
       "</style>\n",
       "<table border=\"1\" class=\"dataframe\">\n",
       "  <thead>\n",
       "    <tr style=\"text-align: right;\">\n",
       "      <th></th>\n",
       "      <th>Age</th>\n",
       "      <th>Rating</th>\n",
       "      <th>Recommended IND</th>\n",
       "      <th>Positive Feedback Count</th>\n",
       "      <th>Division Name</th>\n",
       "      <th>Department Name</th>\n",
       "      <th>Class Name</th>\n",
       "      <th>Review</th>\n",
       "      <th>lenght_review</th>\n",
       "      <th>polarity_score</th>\n",
       "      <th>subjetivity_score</th>\n",
       "    </tr>\n",
       "  </thead>\n",
       "  <tbody>\n",
       "    <tr>\n",
       "      <th>2</th>\n",
       "      <td>60</td>\n",
       "      <td>3</td>\n",
       "      <td>0</td>\n",
       "      <td>0</td>\n",
       "      <td>General</td>\n",
       "      <td>Dresses</td>\n",
       "      <td>Dresses</td>\n",
       "      <td>Some major design flaws I had such high hopes ...</td>\n",
       "      <td>524</td>\n",
       "      <td>0.073209</td>\n",
       "      <td>0.362282</td>\n",
       "    </tr>\n",
       "    <tr>\n",
       "      <th>3</th>\n",
       "      <td>50</td>\n",
       "      <td>5</td>\n",
       "      <td>1</td>\n",
       "      <td>0</td>\n",
       "      <td>General Petite</td>\n",
       "      <td>Bottoms</td>\n",
       "      <td>Pants</td>\n",
       "      <td>My favorite buy! I love, love, love this jumps...</td>\n",
       "      <td>141</td>\n",
       "      <td>0.560714</td>\n",
       "      <td>0.678571</td>\n",
       "    </tr>\n",
       "    <tr>\n",
       "      <th>4</th>\n",
       "      <td>47</td>\n",
       "      <td>5</td>\n",
       "      <td>1</td>\n",
       "      <td>6</td>\n",
       "      <td>General</td>\n",
       "      <td>Tops</td>\n",
       "      <td>Blouses</td>\n",
       "      <td>Flattering shirt This shirt is very flattering...</td>\n",
       "      <td>209</td>\n",
       "      <td>0.512891</td>\n",
       "      <td>0.568750</td>\n",
       "    </tr>\n",
       "    <tr>\n",
       "      <th>5</th>\n",
       "      <td>49</td>\n",
       "      <td>2</td>\n",
       "      <td>0</td>\n",
       "      <td>4</td>\n",
       "      <td>General</td>\n",
       "      <td>Dresses</td>\n",
       "      <td>Dresses</td>\n",
       "      <td>Not for the very petite I love tracy reese dre...</td>\n",
       "      <td>512</td>\n",
       "      <td>0.181111</td>\n",
       "      <td>0.507222</td>\n",
       "    </tr>\n",
       "    <tr>\n",
       "      <th>6</th>\n",
       "      <td>39</td>\n",
       "      <td>5</td>\n",
       "      <td>1</td>\n",
       "      <td>1</td>\n",
       "      <td>General Petite</td>\n",
       "      <td>Tops</td>\n",
       "      <td>Knits</td>\n",
       "      <td>Cagrcoal shimmer fun I aded this in my basket ...</td>\n",
       "      <td>517</td>\n",
       "      <td>0.157500</td>\n",
       "      <td>0.549524</td>\n",
       "    </tr>\n",
       "  </tbody>\n",
       "</table>\n",
       "</div>"
      ],
      "text/plain": [
       "   Age  Rating  Recommended IND  Positive Feedback Count   Division Name  \\\n",
       "2   60       3                0                        0         General   \n",
       "3   50       5                1                        0  General Petite   \n",
       "4   47       5                1                        6         General   \n",
       "5   49       2                0                        4         General   \n",
       "6   39       5                1                        1  General Petite   \n",
       "\n",
       "  Department Name Class Name  \\\n",
       "2         Dresses    Dresses   \n",
       "3         Bottoms      Pants   \n",
       "4            Tops    Blouses   \n",
       "5         Dresses    Dresses   \n",
       "6            Tops      Knits   \n",
       "\n",
       "                                              Review  lenght_review  \\\n",
       "2  Some major design flaws I had such high hopes ...            524   \n",
       "3  My favorite buy! I love, love, love this jumps...            141   \n",
       "4  Flattering shirt This shirt is very flattering...            209   \n",
       "5  Not for the very petite I love tracy reese dre...            512   \n",
       "6  Cagrcoal shimmer fun I aded this in my basket ...            517   \n",
       "\n",
       "   polarity_score  subjetivity_score  \n",
       "2        0.073209           0.362282  \n",
       "3        0.560714           0.678571  \n",
       "4        0.512891           0.568750  \n",
       "5        0.181111           0.507222  \n",
       "6        0.157500           0.549524  "
      ]
     },
     "execution_count": 25,
     "metadata": {},
     "output_type": "execute_result"
    }
   ],
   "source": [
    "df.head()"
   ]
  },
  {
   "cell_type": "code",
   "execution_count": 36,
   "id": "4440f31e-8f69-4089-970d-b2a9f5c92c03",
   "metadata": {},
   "outputs": [
    {
     "data": {
      "text/plain": [
       "Text(0.5, 1.0, 'Subjetivity score of review')"
      ]
     },
     "execution_count": 36,
     "metadata": {},
     "output_type": "execute_result"
    },
    {
     "data": {
      "image/png": "[encoded data removed]",
      "text/plain": [
       "<Figure size 1152x360 with 2 Axes>"
      ]
     },
     "metadata": {},
     "output_type": "display_data"
    }
   ],
   "source": [
    "# plot distribution polarity_score\n",
    "fig, ax  = plt.subplots(nrows = 2, ncols = 1, figsize = (16, 5))\n",
    "sns.histplot(df['polarity_score'], kde = True, bins = 150, ax = ax[0])\n",
    "sns.histplot(df['subjetivity_score'], kde = True, bins = 150, ax = ax[1])\n",
    "ax[0].set_title('Polarity score of review', fontsize = 14)\n",
    "ax[1].set_title('Subjetivity score of review', fontsize = 14)"
   ]
  },
  {
   "cell_type": "markdown",
   "id": "b85fa94e-f8b5-4134-befd-44b61a092661",
   "metadata": {},
   "source": [
    "### 2.4 Stopwords & Clean Text\n",
    "\n",
    "With `sklearn.feature_extraction.text` in its module `ENGLISH_STOP_WORDS`, we can drop all words that is not necessary for review. \n",
    "\n",
    "nltk and spacy have the same modules that are very effective! but, I'm familiar with sckit-learn."
   ]
  },
  {
   "cell_type": "code",
   "execution_count": 51,
   "id": "dab38aa9-5b14-4f75-a847-c29e200362c9",
   "metadata": {},
   "outputs": [
    {
     "name": "stdout",
     "output_type": "stream",
     "text": [
      "frozenset({'inc', 'myself', 'from', 'thereby', 'whence', 'which', 'however', 'behind', 'after', 'least', 'each', 'for', 'yours', 'next', 'much', 'her', 'either', 'further', 'none', 'so', 'herself', 'per', 'anywhere', 'every', 'whose', 'mine', 'is', 'were', 'wherein', 'whether', 'too', 'though', 'hereby', 'on', 'hereupon', 'together', 'describe', 'was', 'six', 'but', 'cannot', 'must', 'hasnt', 'top', 'last', 'without', 'during', 'fifteen', 'eg', 'nine', 'amongst', 'forty', 'also', 'due', 'here', 'hundred', 'onto', 'con', 'any', 'nothing', 'own', 'show', 'my', 'up', 'between', 'co', 'front', 'against', 'nowhere', 'never', 'see', 'most', 'anyway', 'be', 'ever', 'ten', 'your', 'everywhere', 'everyone', 'that', 'de', 'as', 'almost', 'part', 'call', 'again', 'him', 'enough', 'have', 'name', 'while', 'herein', 'etc', 'do', 'down', 'latterly', 'those', 'through', 'thru', 'its', 'keep', 'this', 'becomes', 'seemed', 'somehow', 'only', 'he', 'first', 'himself', 'can', 'move', 'will', 'one', 'more', 'seeming', 'former', 'might', 'anyhow', 'neither', 'our', 'afterwards', 'itself', 'the', 'these', 'hence', 'amount', 'everything', 'go', 'thereafter', 'formerly', 'whenever', 'seem', 'when', 'namely', 'beyond', 'back', 'anything', 'hers', 'thereupon', 'throughout', 'others', 'not', 'sixty', 'along', 'since', 'done', 'otherwise', 'been', 'than', 'am', 'seems', 'them', 'then', 'other', 'what', 'at', 're', 'three', 'always', 'whither', 'take', 'you', 'ours', 'i', 'interest', 'whole', 'to', 'whereafter', 'because', 'side', 'latter', 'ie', 'still', 'now', 'although', 'full', 'serious', 'themselves', 'thin', 'toward', 'whom', 'it', 'being', 'less', 'nevertheless', 'sincere', 'several', 'of', 'above', 'besides', 'into', 'twenty', 'except', 'mill', 'has', 'meanwhile', 'us', 'else', 'would', 'nor', 'where', 'becoming', 'whereas', 'may', 'ltd', 'we', 'yourself', 'many', 'detail', 'became', 'often', 'among', 'and', 'another', 'four', 'whereby', 'by', 'a', 'beside', 'once', 'become', 'should', 'noone', 'rather', 'with', 'or', 'if', 'yourselves', 'such', 'amoungst', 'thus', 'find', 'very', 'off', 'all', 'sometimes', 'both', 'couldnt', 'below', 'even', 'cry', 'same', 'before', 'bill', 'upon', 'nobody', 'thick', 'fire', 'some', 'somewhere', 'sometime', 'therein', 'she', 'bottom', 'alone', 'something', 'ourselves', 'yet', 'get', 'until', 'give', 'why', 'eleven', 'under', 'fifty', 'fill', 'anyone', 'five', 'already', 'system', 'no', 'in', 'within', 'well', 'someone', 'un', 'whoever', 'they', 'there', 'via', 'please', 'eight', 'whereupon', 'around', 'few', 'hereafter', 'across', 'cant', 'over', 'put', 'twelve', 'could', 'perhaps', 'elsewhere', 'empty', 'moreover', 'about', 'had', 'his', 'out', 'found', 'are', 'third', 'wherever', 'whatever', 'beforehand', 'indeed', 'their', 'how', 'made', 'thence', 'me', 'an', 'towards', 'two', 'mostly', 'therefore', 'who'})\n"
     ]
    }
   ],
   "source": [
    "#  library for stopwords. \n",
    "from sklearn.feature_extraction.text import ENGLISH_STOP_WORDS\n",
    "import string # -> dropping string punctuation\n",
    "\n",
    "# View Stopwords list of sklearn:\n",
    "print(ENGLISH_STOP_WORDS)"
   ]
  },
  {
   "cell_type": "code",
   "execution_count": 69,
   "id": "bb0bbd2e-f01d-4196-bd3c-5bb895a2f18a",
   "metadata": {},
   "outputs": [],
   "source": [
    "# drop punctuation\n",
    "punctuation = string.punctuation"
   ]
  },
  {
   "cell_type": "code",
   "execution_count": 63,
   "id": "fc6dec59-2f39-48d9-9ceb-dc4e227ff830",
   "metadata": {},
   "outputs": [],
   "source": [
    "from nltk.tokenize import word_tokenize\n",
    "\n",
    "def SW_removal(text_str):\n",
    "    tokenizer = word_tokenize(text_str)\n",
    "    clean_list = [word for word in tokenizer if word.lower() not in ENGLISH_STOP_WORDS \n",
    "            and word.lower() not in punctuation]\n",
    "    clean_text = ' '.join(clean_list)\n",
    "    \n",
    "    return clean_text"
   ]
  },
  {
   "cell_type": "code",
   "execution_count": 64,
   "id": "e68e0ef3-d7f5-4390-a5ff-eb765dc8e1eb",
   "metadata": {},
   "outputs": [],
   "source": [
    "df['Review_sw'] = df['Review'].apply(SW_removal)"
   ]
  },
  {
   "cell_type": "code",
   "execution_count": 65,
   "id": "4ec86336-cd78-43c3-b3bd-ffce10cf2d35",
   "metadata": {},
   "outputs": [
    {
     "data": {
      "text/plain": [
       "21018    Wear years come love hess overalls true size g...\n",
       "1873     shown agree previous reviewer length shown pic...\n",
       "11863    Amazing jumpsuit convert tried `` just case ''...\n",
       "12514    Awkward fit sweater little bit let ordered pin...\n",
       "Name: Review_sw, dtype: object"
      ]
     },
     "execution_count": 65,
     "metadata": {},
     "output_type": "execute_result"
    }
   ],
   "source": [
    "df['Review_sw'].sample(4)"
   ]
  }
 ],
 "metadata": {
  "kernelspec": {
   "display_name": "Python 3",
   "language": "python",
   "name": "python3"
  },
  "language_info": {
   "codemirror_mode": {
    "name": "ipython",
    "version": 3
   },
   "file_extension": ".py",
   "mimetype": "text/x-python",
   "name": "python",
   "nbconvert_exporter": "python",
   "pygments_lexer": "ipython3",
   "version": "3.8.8"
  }
 },
 "nbformat": 4,
 "nbformat_minor": 5
}
