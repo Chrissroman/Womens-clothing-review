{
 "cells": [
  {
   "cell_type": "markdown",
   "id": "16457182-b373-481b-bc99-cd4cebc8461a",
   "metadata": {},
   "source": [
    "# Women's Clothing E-Commerce Review"
   ]
  },
  {
   "cell_type": "code",
   "execution_count": 2,
   "id": "e33aaad4-b079-4168-878c-10235afdb389",
   "metadata": {},
   "outputs": [],
   "source": [
    "import pandas as pd\n",
    "import numpy as np\n",
    "import matplotlib.pyplot as plt\n",
    "import seaborn as sns\n",
    "\n",
    "\n",
    "%matplotlib inline"
   ]
  },
  {
   "cell_type": "markdown",
   "id": "76e54641-9704-487c-b270-358821f04943",
   "metadata": {},
   "source": [
    "## 1. Load of CSV\n",
    "\n",
    "Charge data women's clothing e-commerce review in DataFrame."
   ]
  },
  {
   "cell_type": "code",
   "execution_count": null,
   "id": "e6000bf0-f0c3-4f67-800e-2b258cd3dc91",
   "metadata": {},
   "outputs": [],
   "source": [
    "df =  pd.read_csv()"
   ]
  }
 ],
 "metadata": {
  "kernelspec": {
   "display_name": "Python 3",
   "language": "python",
   "name": "python3"
  },
  "language_info": {
   "codemirror_mode": {
    "name": "ipython",
    "version": 3
   },
   "file_extension": ".py",
   "mimetype": "text/x-python",
   "name": "python",
   "nbconvert_exporter": "python",
   "pygments_lexer": "ipython3",
   "version": "3.8.8"
  }
 },
 "nbformat": 4,
 "nbformat_minor": 5
}
